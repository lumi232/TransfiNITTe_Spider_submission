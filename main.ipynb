{
 "cells": [
  {
   "cell_type": "code",
   "execution_count": 3,
   "metadata": {},
   "outputs": [],
   "source": [
    "import pickle\n",
    "class Student():\n",
    "    def __init__(self, roll_no, password, name):\n",
    "        self.roll_no = roll_no\n",
    "        self.password = password\n",
    "        self.name = name\n",
    "        self.history = {\n",
    "            \"week1\" : False,\n",
    "            \"week2\" : False,\n",
    "            \"week3\" : False,\n",
    "            \"week4\" : False,\n",
    "            \"week5\" : False,\n",
    "            \"week6\" : False,\n",
    "            \"week7\" : False,\n",
    "            \"week8\" : False,\n",
    "        }\n",
    "        with open(f\"h_s/history_student{self.roll_no}.pkl\", \"wb\") as tf:\n",
    "            pickle.dump(self.history, tf)\n",
    "        \n",
    "student_database = {\n",
    "\"student1\" : Student(1, \"456\", \"Dhruv\"),\n",
    "\"student2\" : Student(2, \"345\", \"Hurath\"),\n",
    "\"student3\" : Student(3, \"678\", \"Varun\"),\n",
    "\"student4\" : Student(4, \"567\", \"Naren\"),\n",
    "\"student5\" : Student(5, \"987\", \"Vaseekaran\"),\n",
    "\"student6\" : Student(6, \"098\", \"Saptak\"),\n",
    "}\n",
    "\n",
    "\n",
    "\n",
    "def login():\n",
    "    roll_no_input = int(input(\"Enter roll number: \"))\n",
    "    password_input = input(\"Enter password: \")\n",
    "    for i in range(len(student_database)):\n",
    "        if roll_no_input == student_database[f\"student{i+1}\"].roll_no and password_input == student_database[f\"student{i+1}\"].password:\n",
    "            return student_database[f\"student{i+1}\"]\n",
    "    return \"Enter valid credentials\"     \n"
   ]
  },
  {
   "cell_type": "code",
   "execution_count": null,
   "metadata": {},
   "outputs": [],
   "source": [
    "import cv2\n",
    "import numpy as np\n",
    "from torch import qr\n",
    "import webbrowser\n",
    "def qr_scan():\n",
    "    d = cv2.QRCodeDetector()\n",
    "    cap = cv2.VideoCapture(0)\n",
    "    cap.set(3, 640)\n",
    "    cap.set(4, 480)\n",
    "    a = 0\n",
    "\n",
    "    while True:\n",
    "        _, img = cap.read()\n",
    "        data, bbox, _ = d.detectAndDecode(img)\n",
    "        if data:\n",
    "            a=data\n",
    "            break\n",
    "\n",
    "        cv2.imshow(\"QRCODEscanner\", img)   \n",
    "        if cv2.waitKey(1) == ord(\"q\"):\n",
    "                break\n",
    "    cap.release()\n",
    "    cv2.destroyAllWindows()\n",
    "    return a\n"
   ]
  },
  {
   "cell_type": "code",
   "execution_count": null,
   "metadata": {},
   "outputs": [
    {
     "name": "stdout",
     "output_type": "stream",
     "text": [
      "You have exhausted your weekly washes\n"
     ]
    },
    {
     "ename": "",
     "evalue": "",
     "output_type": "error",
     "traceback": [
      "\u001b[1;31mThe Kernel crashed while executing code in the the current cell or a previous cell. Please review the code in the cell(s) to identify a possible cause of the failure. Click <a href='https://aka.ms/vscodeJupyterKernelCrash'>here</a> for more info. View Jupyter <a href='command:jupyter.viewOutput'>log</a> for further details."
     ]
    }
   ],
   "source": [
    "current_week = \"week1\"\n",
    "link = qr_scan()\n",
    "cv2.destroyAllWindows()\n",
    "current_student = login()\n",
    "with open(f\"h_s/history_student{current_student.roll_no}.pkl\", \"rb\") as tf:\n",
    "    history = pickle.load(tf)\n",
    "for week in history:\n",
    "    if week == current_week:\n",
    "        if not history[week]:\n",
    "            print(\"You can wash your clothes!\")\n",
    "            webbrowser.open_new_tab(link)\n",
    "            history[week] = True\n",
    "            with open(f\"h_s/history_student{current_student.roll_no}.pkl\", \"wb\") as tf:\n",
    "                pickle.dump(history, tf)\n",
    "        elif history[week]:\n",
    "            print(\"You have exhausted your weekly washes\")\n",
    "                \n",
    "                "
   ]
  },
  {
   "cell_type": "code",
   "execution_count": null,
   "metadata": {},
   "outputs": [],
   "source": []
  }
 ],
 "metadata": {
  "kernelspec": {
   "display_name": "Python 3.10.6 ('MLenv')",
   "language": "python",
   "name": "python3"
  },
  "language_info": {
   "codemirror_mode": {
    "name": "ipython",
    "version": 3
   },
   "file_extension": ".py",
   "mimetype": "text/x-python",
   "name": "python",
   "nbconvert_exporter": "python",
   "pygments_lexer": "ipython3",
   "version": "3.10.6"
  },
  "orig_nbformat": 4,
  "vscode": {
   "interpreter": {
    "hash": "efab3ecd4523442fa79db706490408114ee91a2cbe83f5bad2313e18cf171fd0"
   }
  }
 },
 "nbformat": 4,
 "nbformat_minor": 2
}
